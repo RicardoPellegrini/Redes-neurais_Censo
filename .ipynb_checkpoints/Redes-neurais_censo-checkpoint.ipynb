{
 "cells": [
  {
   "cell_type": "code",
   "execution_count": 1,
   "metadata": {},
   "outputs": [],
   "source": [
    "import pandas as pd"
   ]
  },
  {
   "cell_type": "code",
   "execution_count": 2,
   "metadata": {},
   "outputs": [],
   "source": [
    "# Importando base de dados\n",
    "base = pd.read_csv('census.csv')"
   ]
  },
  {
   "cell_type": "code",
   "execution_count": 3,
   "metadata": {},
   "outputs": [],
   "source": [
    "# Dividir entre previsores e classe\n",
    "previsores = base.iloc[:, 0:14].values\n",
    "\n",
    "classe = base.iloc[:, 14].values"
   ]
  },
  {
   "cell_type": "code",
   "execution_count": 4,
   "metadata": {},
   "outputs": [],
   "source": [
    "# Transformando atributos nominais em atributos discretos\n",
    "from sklearn.preprocessing import LabelEncoder"
   ]
  },
  {
   "cell_type": "code",
   "execution_count": 5,
   "metadata": {},
   "outputs": [],
   "source": [
    "labelencoder_previsores = LabelEncoder()"
   ]
  },
  {
   "cell_type": "code",
   "execution_count": 6,
   "metadata": {},
   "outputs": [],
   "source": [
    "previsores[:, 1] = labelencoder_previsores.fit_transform(previsores[:, 1])\n",
    "previsores[:, 3] = labelencoder_previsores.fit_transform(previsores[:, 3])\n",
    "previsores[:, 5] = labelencoder_previsores.fit_transform(previsores[:, 5])\n",
    "previsores[:, 6] = labelencoder_previsores.fit_transform(previsores[:, 6])\n",
    "previsores[:, 7] = labelencoder_previsores.fit_transform(previsores[:, 7])\n",
    "previsores[:, 8] = labelencoder_previsores.fit_transform(previsores[:, 8])\n",
    "previsores[:, 9] = labelencoder_previsores.fit_transform(previsores[:, 9])\n",
    "previsores[:, 13] = labelencoder_previsores.fit_transform(previsores[:, 13])"
   ]
  },
  {
   "cell_type": "code",
   "execution_count": null,
   "metadata": {},
   "outputs": [],
   "source": [
    "# Adicionando as variáveis dummies para as variáveis categóricas\n",
    "from sklearn.preprocessing import OneHotEncoder"
   ]
  },
  {
   "cell_type": "code",
   "execution_count": null,
   "metadata": {},
   "outputs": [],
   "source": [
    "onehotencoder = OneHotEncoder(categorical_features=[1,3,5,6,7,8,9,13])\n",
    "previsores = onehotencoder.fit_transform(previsores).toarray()"
   ]
  },
  {
   "cell_type": "code",
   "execution_count": null,
   "metadata": {},
   "outputs": [],
   "source": [
    "# labelencoder_classe = LabelEncoder()"
   ]
  },
  {
   "cell_type": "code",
   "execution_count": null,
   "metadata": {},
   "outputs": [],
   "source": [
    "# classe = labelencoder_classe.fit_transform(classe)"
   ]
  },
  {
   "cell_type": "code",
   "execution_count": 7,
   "metadata": {},
   "outputs": [
    {
     "name": "stdout",
     "output_type": "stream",
     "text": [
      "(32561, 14)\n",
      "(32561,)\n"
     ]
    }
   ],
   "source": [
    "# Verificando números de linhas e colunas das colunas previsoras e da classe\n",
    "print(previsores.shape)\n",
    "print(classe.shape)"
   ]
  },
  {
   "cell_type": "code",
   "execution_count": 8,
   "metadata": {},
   "outputs": [],
   "source": [
    "# Escalonamento de vetores por padronização\n",
    "from sklearn.preprocessing import StandardScaler"
   ]
  },
  {
   "cell_type": "code",
   "execution_count": 9,
   "metadata": {},
   "outputs": [],
   "source": [
    "scaler = StandardScaler()"
   ]
  },
  {
   "cell_type": "code",
   "execution_count": 10,
   "metadata": {},
   "outputs": [
    {
     "name": "stderr",
     "output_type": "stream",
     "text": [
      "C:\\Users\\ricar\\Anaconda3\\lib\\site-packages\\sklearn\\utils\\validation.py:475: DataConversionWarning: Data with input dtype object was converted to float64 by StandardScaler.\n",
      "  warnings.warn(msg, DataConversionWarning)\n"
     ]
    }
   ],
   "source": [
    "previsores = scaler.fit_transform(previsores)"
   ]
  },
  {
   "cell_type": "code",
   "execution_count": 11,
   "metadata": {},
   "outputs": [],
   "source": [
    "# Dividindo os dados em treino e teste\n",
    "from sklearn.model_selection import train_test_split"
   ]
  },
  {
   "cell_type": "code",
   "execution_count": 12,
   "metadata": {},
   "outputs": [],
   "source": [
    "previsores_train, previsores_test, classe_train, classe_test = train_test_split(previsores, classe, test_size=0.15, random_state=0)"
   ]
  },
  {
   "cell_type": "code",
   "execution_count": 13,
   "metadata": {},
   "outputs": [],
   "source": [
    "# Criando modelo redes neurais\n",
    "from sklearn.neural_network import MLPClassifier"
   ]
  },
  {
   "cell_type": "code",
   "execution_count": 14,
   "metadata": {},
   "outputs": [],
   "source": [
    "classificador = MLPClassifier(verbose=True, max_iter=1000, tol=0.00001)"
   ]
  },
  {
   "cell_type": "code",
   "execution_count": 15,
   "metadata": {},
   "outputs": [
    {
     "name": "stdout",
     "output_type": "stream",
     "text": [
      "Iteration 1, loss = 0.45612272\n",
      "Iteration 2, loss = 0.36451786\n",
      "Iteration 3, loss = 0.34162769\n",
      "Iteration 4, loss = 0.32986483\n",
      "Iteration 5, loss = 0.32509371\n",
      "Iteration 6, loss = 0.32288887\n",
      "Iteration 7, loss = 0.32126837\n",
      "Iteration 8, loss = 0.32044068\n",
      "Iteration 9, loss = 0.31980043\n",
      "Iteration 10, loss = 0.31887444\n",
      "Iteration 11, loss = 0.31834172\n",
      "Iteration 12, loss = 0.31774360\n",
      "Iteration 13, loss = 0.31711345\n",
      "Iteration 14, loss = 0.31677783\n",
      "Iteration 15, loss = 0.31648536\n",
      "Iteration 16, loss = 0.31598905\n",
      "Iteration 17, loss = 0.31545764\n",
      "Iteration 18, loss = 0.31538897\n",
      "Iteration 19, loss = 0.31460264\n",
      "Iteration 20, loss = 0.31461452\n",
      "Iteration 21, loss = 0.31389430\n",
      "Iteration 22, loss = 0.31339915\n",
      "Iteration 23, loss = 0.31319393\n",
      "Iteration 24, loss = 0.31280166\n",
      "Iteration 25, loss = 0.31247486\n",
      "Iteration 26, loss = 0.31244972\n",
      "Iteration 27, loss = 0.31167605\n",
      "Iteration 28, loss = 0.31157662\n",
      "Iteration 29, loss = 0.31112475\n",
      "Iteration 30, loss = 0.31071995\n",
      "Iteration 31, loss = 0.31065428\n",
      "Iteration 32, loss = 0.31018197\n",
      "Iteration 33, loss = 0.30996496\n",
      "Iteration 34, loss = 0.30962425\n",
      "Iteration 35, loss = 0.30933920\n",
      "Iteration 36, loss = 0.30899004\n",
      "Iteration 37, loss = 0.30846716\n",
      "Iteration 38, loss = 0.30861536\n",
      "Iteration 39, loss = 0.30806397\n",
      "Iteration 40, loss = 0.30755629\n",
      "Iteration 41, loss = 0.30703980\n",
      "Iteration 42, loss = 0.30706162\n",
      "Iteration 43, loss = 0.30698248\n",
      "Iteration 44, loss = 0.30666353\n",
      "Iteration 45, loss = 0.30640855\n",
      "Iteration 46, loss = 0.30617036\n",
      "Iteration 47, loss = 0.30554033\n",
      "Iteration 48, loss = 0.30585652\n",
      "Iteration 49, loss = 0.30503515\n",
      "Iteration 50, loss = 0.30525900\n",
      "Iteration 51, loss = 0.30457381\n",
      "Iteration 52, loss = 0.30415263\n",
      "Iteration 53, loss = 0.30420615\n",
      "Iteration 54, loss = 0.30395804\n",
      "Iteration 55, loss = 0.30372258\n",
      "Iteration 56, loss = 0.30358087\n",
      "Iteration 57, loss = 0.30320222\n",
      "Iteration 58, loss = 0.30286109\n",
      "Iteration 59, loss = 0.30270996\n",
      "Iteration 60, loss = 0.30272614\n",
      "Iteration 61, loss = 0.30196340\n",
      "Iteration 62, loss = 0.30201775\n",
      "Iteration 63, loss = 0.30134462\n",
      "Iteration 64, loss = 0.30160328\n",
      "Iteration 65, loss = 0.30162119\n",
      "Iteration 66, loss = 0.30075168\n",
      "Iteration 67, loss = 0.30093108\n",
      "Iteration 68, loss = 0.30103486\n",
      "Iteration 69, loss = 0.30025282\n",
      "Iteration 70, loss = 0.30001614\n",
      "Iteration 71, loss = 0.29968649\n",
      "Iteration 72, loss = 0.29992018\n",
      "Iteration 73, loss = 0.29983189\n",
      "Iteration 74, loss = 0.29955758\n",
      "Iteration 75, loss = 0.29917976\n",
      "Iteration 76, loss = 0.29859387\n",
      "Iteration 77, loss = 0.29850842\n",
      "Iteration 78, loss = 0.29858145\n",
      "Iteration 79, loss = 0.29869922\n",
      "Iteration 80, loss = 0.29847257\n",
      "Iteration 81, loss = 0.29768654\n",
      "Iteration 82, loss = 0.29786310\n",
      "Iteration 83, loss = 0.29745380\n",
      "Iteration 84, loss = 0.29726281\n",
      "Iteration 85, loss = 0.29708623\n",
      "Iteration 86, loss = 0.29705920\n",
      "Iteration 87, loss = 0.29683209\n",
      "Iteration 88, loss = 0.29694227\n",
      "Iteration 89, loss = 0.29667002\n",
      "Iteration 90, loss = 0.29637038\n",
      "Iteration 91, loss = 0.29615551\n",
      "Iteration 92, loss = 0.29611736\n",
      "Iteration 93, loss = 0.29568499\n",
      "Iteration 94, loss = 0.29534150\n",
      "Iteration 95, loss = 0.29528833\n",
      "Iteration 96, loss = 0.29490113\n",
      "Iteration 97, loss = 0.29579461\n",
      "Iteration 98, loss = 0.29477585\n",
      "Iteration 99, loss = 0.29455048\n",
      "Iteration 100, loss = 0.29459295\n",
      "Iteration 101, loss = 0.29491952\n",
      "Iteration 102, loss = 0.29450474\n",
      "Iteration 103, loss = 0.29400074\n",
      "Iteration 104, loss = 0.29400019\n",
      "Iteration 105, loss = 0.29387985\n",
      "Iteration 106, loss = 0.29374837\n",
      "Iteration 107, loss = 0.29388650\n",
      "Iteration 108, loss = 0.29387151\n",
      "Iteration 109, loss = 0.29355557\n",
      "Iteration 110, loss = 0.29332701\n",
      "Iteration 111, loss = 0.29266098\n",
      "Iteration 112, loss = 0.29289419\n",
      "Iteration 113, loss = 0.29275523\n",
      "Iteration 114, loss = 0.29267679\n",
      "Training loss did not improve more than tol=0.000010 for two consecutive epochs. Stopping.\n"
     ]
    },
    {
     "data": {
      "text/plain": [
       "MLPClassifier(activation='relu', alpha=0.0001, batch_size='auto', beta_1=0.9,\n",
       "       beta_2=0.999, early_stopping=False, epsilon=1e-08,\n",
       "       hidden_layer_sizes=(100,), learning_rate='constant',\n",
       "       learning_rate_init=0.001, max_iter=1000, momentum=0.9,\n",
       "       nesterovs_momentum=True, power_t=0.5, random_state=None,\n",
       "       shuffle=True, solver='adam', tol=1e-05, validation_fraction=0.1,\n",
       "       verbose=True, warm_start=False)"
      ]
     },
     "execution_count": 15,
     "metadata": {},
     "output_type": "execute_result"
    }
   ],
   "source": [
    "classificador.fit(previsores_train, classe_train)"
   ]
  },
  {
   "cell_type": "code",
   "execution_count": 16,
   "metadata": {},
   "outputs": [],
   "source": [
    "previsoes = classificador.predict(previsores_test)"
   ]
  },
  {
   "cell_type": "code",
   "execution_count": 17,
   "metadata": {},
   "outputs": [],
   "source": [
    "# Calculando a precisão do modelo\n",
    "from sklearn.metrics import confusion_matrix, accuracy_score"
   ]
  },
  {
   "cell_type": "code",
   "execution_count": 18,
   "metadata": {},
   "outputs": [
    {
     "data": {
      "text/plain": [
       "0.8472876151484136"
      ]
     },
     "execution_count": 18,
     "metadata": {},
     "output_type": "execute_result"
    }
   ],
   "source": [
    "precisao = accuracy_score(classe_test, previsoes)\n",
    "precisao"
   ]
  },
  {
   "cell_type": "code",
   "execution_count": 19,
   "metadata": {},
   "outputs": [
    {
     "data": {
      "text/plain": [
       "array([[3421,  272],\n",
       "       [ 474,  718]], dtype=int64)"
      ]
     },
     "execution_count": 19,
     "metadata": {},
     "output_type": "execute_result"
    }
   ],
   "source": [
    "matriz = confusion_matrix(classe_test, previsoes)\n",
    "matriz"
   ]
  },
  {
   "cell_type": "markdown",
   "metadata": {},
   "source": [
    "## Resultados\n",
    "### Redes neurais (MLP Classifier)\n",
    "0.8360 - (labelencoder + onehotencoder + escalonamento) - max_iter=1000, tol=0.00001  \n",
    "0.2440 - (labelencoder) - max_iter=1000, tol=0.00001  \n",
    "0.7881 - (labelencoder + onehotencoder) - max_iter=1000, tol=0.00001  \n",
    "0.8473 - (labelencoder + escalonamento) - max_iter=1000, tol=0.00001 "
   ]
  },
  {
   "cell_type": "code",
   "execution_count": null,
   "metadata": {},
   "outputs": [],
   "source": []
  }
 ],
 "metadata": {
  "kernelspec": {
   "display_name": "Python 3",
   "language": "python",
   "name": "python3"
  },
  "language_info": {
   "codemirror_mode": {
    "name": "ipython",
    "version": 3
   },
   "file_extension": ".py",
   "mimetype": "text/x-python",
   "name": "python",
   "nbconvert_exporter": "python",
   "pygments_lexer": "ipython3",
   "version": "3.6.5"
  }
 },
 "nbformat": 4,
 "nbformat_minor": 2
}
