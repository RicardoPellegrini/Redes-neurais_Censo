{
 "cells": [
  {
   "cell_type": "code",
   "execution_count": 1,
   "metadata": {},
   "outputs": [],
   "source": [
    "import pandas as pd"
   ]
  },
  {
   "cell_type": "code",
   "execution_count": 2,
   "metadata": {},
   "outputs": [],
   "source": [
    "# Importando base de dados\n",
    "base = pd.read_csv('census.csv')"
   ]
  },
  {
   "cell_type": "code",
   "execution_count": 3,
   "metadata": {},
   "outputs": [],
   "source": [
    "# Dividir entre previsores e classe\n",
    "previsores = base.iloc[:, 0:14].values\n",
    "\n",
    "classe = base.iloc[:, 14].values"
   ]
  },
  {
   "cell_type": "code",
   "execution_count": 4,
   "metadata": {},
   "outputs": [],
   "source": [
    "# Transformando atributos nominais em atributos discretos\n",
    "from sklearn.preprocessing import LabelEncoder"
   ]
  },
  {
   "cell_type": "code",
   "execution_count": 5,
   "metadata": {},
   "outputs": [],
   "source": [
    "labelencoder_previsores = LabelEncoder()"
   ]
  },
  {
   "cell_type": "code",
   "execution_count": 6,
   "metadata": {},
   "outputs": [],
   "source": [
    "previsores[:, 1] = labelencoder_previsores.fit_transform(previsores[:, 1])\n",
    "previsores[:, 3] = labelencoder_previsores.fit_transform(previsores[:, 3])\n",
    "previsores[:, 5] = labelencoder_previsores.fit_transform(previsores[:, 5])\n",
    "previsores[:, 6] = labelencoder_previsores.fit_transform(previsores[:, 6])\n",
    "previsores[:, 7] = labelencoder_previsores.fit_transform(previsores[:, 7])\n",
    "previsores[:, 8] = labelencoder_previsores.fit_transform(previsores[:, 8])\n",
    "previsores[:, 9] = labelencoder_previsores.fit_transform(previsores[:, 9])\n",
    "previsores[:, 13] = labelencoder_previsores.fit_transform(previsores[:, 13])"
   ]
  },
  {
   "cell_type": "code",
   "execution_count": 7,
   "metadata": {},
   "outputs": [],
   "source": [
    "# Adicionando as variáveis dummies para as variáveis categóricas\n",
    "from sklearn.preprocessing import OneHotEncoder"
   ]
  },
  {
   "cell_type": "code",
   "execution_count": 8,
   "metadata": {},
   "outputs": [],
   "source": [
    "# onehotencoder = OneHotEncoder(categorical_features=[1,3,5,6,7,8,9,13])\n",
    "# previsores = onehotencoder.fit_transform(previsores).toarray()"
   ]
  },
  {
   "cell_type": "code",
   "execution_count": 9,
   "metadata": {},
   "outputs": [],
   "source": [
    "labelencoder_classe = LabelEncoder()"
   ]
  },
  {
   "cell_type": "code",
   "execution_count": 10,
   "metadata": {},
   "outputs": [],
   "source": [
    "classe = labelencoder_classe.fit_transform(classe)"
   ]
  },
  {
   "cell_type": "code",
   "execution_count": 11,
   "metadata": {},
   "outputs": [
    {
     "name": "stdout",
     "output_type": "stream",
     "text": [
      "(32561, 14)\n",
      "(32561,)\n"
     ]
    }
   ],
   "source": [
    "# Verificando números de linhas e colunas das colunas previsoras e da classe\n",
    "print(previsores.shape)\n",
    "print(classe.shape)"
   ]
  },
  {
   "cell_type": "code",
   "execution_count": 12,
   "metadata": {},
   "outputs": [],
   "source": [
    "# Escalonamento de vetores por padronização\n",
    "from sklearn.preprocessing import StandardScaler"
   ]
  },
  {
   "cell_type": "code",
   "execution_count": 13,
   "metadata": {},
   "outputs": [],
   "source": [
    "scaler = StandardScaler()"
   ]
  },
  {
   "cell_type": "code",
   "execution_count": 14,
   "metadata": {},
   "outputs": [
    {
     "name": "stderr",
     "output_type": "stream",
     "text": [
      "C:\\Users\\ricar\\Anaconda3\\lib\\site-packages\\sklearn\\utils\\validation.py:475: DataConversionWarning: Data with input dtype object was converted to float64 by StandardScaler.\n",
      "  warnings.warn(msg, DataConversionWarning)\n"
     ]
    }
   ],
   "source": [
    "previsores = scaler.fit_transform(previsores)"
   ]
  },
  {
   "cell_type": "code",
   "execution_count": 15,
   "metadata": {},
   "outputs": [],
   "source": [
    "# Dividindo os dados em treino e teste\n",
    "from sklearn.model_selection import train_test_split"
   ]
  },
  {
   "cell_type": "code",
   "execution_count": 16,
   "metadata": {},
   "outputs": [],
   "source": [
    "previsores_train, previsores_test, classe_train, classe_test = train_test_split(previsores, classe, test_size=0.15, random_state=0)"
   ]
  },
  {
   "cell_type": "code",
   "execution_count": 17,
   "metadata": {},
   "outputs": [],
   "source": [
    "# Importando pacote para Deep Learning\n",
    "import tensorflow"
   ]
  },
  {
   "cell_type": "code",
   "execution_count": 18,
   "metadata": {},
   "outputs": [],
   "source": [
    "from tensorflow.keras.models import Sequential\n",
    "from tensorflow.keras.layers import Dense"
   ]
  },
  {
   "cell_type": "code",
   "execution_count": 19,
   "metadata": {},
   "outputs": [],
   "source": [
    "# Criando nossa rede neural inicial\n",
    "classificador = Sequential()"
   ]
  },
  {
   "cell_type": "code",
   "execution_count": 20,
   "metadata": {},
   "outputs": [],
   "source": [
    "# Atribuindo primeira camada oculta para nossa rede, com 55 neurônios\n",
    "# classificador.add(Dense(units=55, activation='relu', input_dim=108))\n",
    "\n",
    "# Opção sem utilizar o onehotencoder\n",
    "classificador.add(Dense(units=8, activation='relu', input_dim=14))"
   ]
  },
  {
   "cell_type": "code",
   "execution_count": 21,
   "metadata": {},
   "outputs": [],
   "source": [
    "# Atribuindo segunda camada oculta para nossa rede, com 55 neurônios\n",
    "# classificador.add(Dense(units=55, activation='relu'))\n",
    "\n",
    "# Opção sem utilizar o onehotencoder\n",
    "classificador.add(Dense(units=8, activation='relu'))"
   ]
  },
  {
   "cell_type": "code",
   "execution_count": 22,
   "metadata": {},
   "outputs": [],
   "source": [
    "# Atribuindo camada de saída para nossa rede, com 1 neurônios (problema binário)\n",
    "classificador.add(Dense(units=1, activation='sigmoid'))"
   ]
  },
  {
   "cell_type": "code",
   "execution_count": 23,
   "metadata": {},
   "outputs": [],
   "source": [
    "# Compilar rede neural\n",
    "classificador.compile(optimizer='adam', loss='binary_crossentropy', metrics=['accuracy'])"
   ]
  },
  {
   "cell_type": "code",
   "execution_count": 24,
   "metadata": {},
   "outputs": [
    {
     "name": "stdout",
     "output_type": "stream",
     "text": [
      "Train on 27676 samples\n",
      "Epoch 1/100\n",
      "27676/27676 [==============================] - 3s 106us/sample - loss: 0.3976 - accuracy: 0.8188\n",
      "Epoch 2/100\n",
      "27676/27676 [==============================] - 3s 103us/sample - loss: 0.3369 - accuracy: 0.8408\n",
      "Epoch 3/100\n",
      "27676/27676 [==============================] - 3s 98us/sample - loss: 0.3281 - accuracy: 0.8442\n",
      "Epoch 4/100\n",
      "27676/27676 [==============================] - 3s 97us/sample - loss: 0.3249 - accuracy: 0.8465\n",
      "Epoch 5/100\n",
      "27676/27676 [==============================] - 3s 100us/sample - loss: 0.3233 - accuracy: 0.8478\n",
      "Epoch 6/100\n",
      "27676/27676 [==============================] - 3s 99us/sample - loss: 0.3219 - accuracy: 0.8482\n",
      "Epoch 7/100\n",
      "27676/27676 [==============================] - 3s 100us/sample - loss: 0.3209 - accuracy: 0.8487\n",
      "Epoch 8/100\n",
      "27676/27676 [==============================] - 3s 99us/sample - loss: 0.3203 - accuracy: 0.8495\n",
      "Epoch 9/100\n",
      "27676/27676 [==============================] - 3s 104us/sample - loss: 0.3198 - accuracy: 0.8473\n",
      "Epoch 10/100\n",
      "27676/27676 [==============================] - 3s 101us/sample - loss: 0.3195 - accuracy: 0.8507\n",
      "Epoch 11/100\n",
      "27676/27676 [==============================] - 3s 102us/sample - loss: 0.3190 - accuracy: 0.8507\n",
      "Epoch 12/100\n",
      "27676/27676 [==============================] - 3s 101us/sample - loss: 0.3187 - accuracy: 0.8506\n",
      "Epoch 13/100\n",
      "27676/27676 [==============================] - 3s 95us/sample - loss: 0.3183 - accuracy: 0.8507\n",
      "Epoch 14/100\n",
      "27676/27676 [==============================] - 3s 94us/sample - loss: 0.3182 - accuracy: 0.8508\n",
      "Epoch 15/100\n",
      "27676/27676 [==============================] - 3s 93us/sample - loss: 0.3180 - accuracy: 0.8511\n",
      "Epoch 16/100\n",
      "27676/27676 [==============================] - 3s 94us/sample - loss: 0.3175 - accuracy: 0.8504\n",
      "Epoch 17/100\n",
      "27676/27676 [==============================] - 3s 95us/sample - loss: 0.3175 - accuracy: 0.8510\n",
      "Epoch 18/100\n",
      "27676/27676 [==============================] - 3s 94us/sample - loss: 0.3172 - accuracy: 0.8509\n",
      "Epoch 19/100\n",
      "27676/27676 [==============================] - 3s 94us/sample - loss: 0.3172 - accuracy: 0.8517\n",
      "Epoch 20/100\n",
      "27676/27676 [==============================] - 3s 95us/sample - loss: 0.3166 - accuracy: 0.8511\n",
      "Epoch 21/100\n",
      "27676/27676 [==============================] - 3s 97us/sample - loss: 0.3166 - accuracy: 0.8505\n",
      "Epoch 22/100\n",
      "27676/27676 [==============================] - 3s 94us/sample - loss: 0.3166 - accuracy: 0.8503\n",
      "Epoch 23/100\n",
      "27676/27676 [==============================] - 3s 94us/sample - loss: 0.3163 - accuracy: 0.8514\n",
      "Epoch 24/100\n",
      "27676/27676 [==============================] - 3s 94us/sample - loss: 0.3157 - accuracy: 0.8511\n",
      "Epoch 25/100\n",
      "27676/27676 [==============================] - 3s 94us/sample - loss: 0.3161 - accuracy: 0.8507\n",
      "Epoch 26/100\n",
      "27676/27676 [==============================] - 3s 99us/sample - loss: 0.3161 - accuracy: 0.8502\n",
      "Epoch 27/100\n",
      "27676/27676 [==============================] - 3s 99us/sample - loss: 0.3160 - accuracy: 0.8503\n",
      "Epoch 28/100\n",
      "27676/27676 [==============================] - 3s 104us/sample - loss: 0.3157 - accuracy: 0.8505\n",
      "Epoch 29/100\n",
      "27676/27676 [==============================] - 3s 96us/sample - loss: 0.3159 - accuracy: 0.8505\n",
      "Epoch 30/100\n",
      "27676/27676 [==============================] - 3s 93us/sample - loss: 0.3153 - accuracy: 0.8511\n",
      "Epoch 31/100\n",
      "27676/27676 [==============================] - 3s 101us/sample - loss: 0.3153 - accuracy: 0.8511\n",
      "Epoch 32/100\n",
      "27676/27676 [==============================] - 3s 95us/sample - loss: 0.3155 - accuracy: 0.8507\n",
      "Epoch 33/100\n",
      "27676/27676 [==============================] - 3s 97us/sample - loss: 0.3154 - accuracy: 0.8503s - loss: 0.3153 - accuracy: 0.85\n",
      "Epoch 34/100\n",
      "27676/27676 [==============================] - 3s 96us/sample - loss: 0.3153 - accuracy: 0.8521\n",
      "Epoch 35/100\n",
      "27676/27676 [==============================] - 3s 97us/sample - loss: 0.3154 - accuracy: 0.8511s - loss: 0.3142 - accura\n",
      "Epoch 36/100\n",
      "27676/27676 [==============================] - 3s 98us/sample - loss: 0.3149 - accuracy: 0.8507\n",
      "Epoch 37/100\n",
      "27676/27676 [==============================] - 3s 98us/sample - loss: 0.3153 - accuracy: 0.8509\n",
      "Epoch 38/100\n",
      "27676/27676 [==============================] - 3s 99us/sample - loss: 0.3151 - accuracy: 0.8516\n",
      "Epoch 39/100\n",
      "27676/27676 [==============================] - 3s 97us/sample - loss: 0.3151 - accuracy: 0.8520\n",
      "Epoch 40/100\n",
      "27676/27676 [==============================] - 3s 96us/sample - loss: 0.3151 - accuracy: 0.8523\n",
      "Epoch 41/100\n",
      "27676/27676 [==============================] - 3s 93us/sample - loss: 0.3143 - accuracy: 0.8523\n",
      "Epoch 42/100\n",
      "27676/27676 [==============================] - 3s 96us/sample - loss: 0.3148 - accuracy: 0.8511\n",
      "Epoch 43/100\n",
      "27676/27676 [==============================] - 3s 94us/sample - loss: 0.3147 - accuracy: 0.8507\n",
      "Epoch 44/100\n",
      "27676/27676 [==============================] - 3s 94us/sample - loss: 0.3148 - accuracy: 0.8519\n",
      "Epoch 45/100\n",
      "27676/27676 [==============================] - 3s 96us/sample - loss: 0.3146 - accuracy: 0.8504\n",
      "Epoch 46/100\n",
      "27676/27676 [==============================] - 3s 95us/sample - loss: 0.3147 - accuracy: 0.8518\n",
      "Epoch 47/100\n",
      "27676/27676 [==============================] - 3s 98us/sample - loss: 0.3143 - accuracy: 0.8523\n",
      "Epoch 48/100\n",
      "27676/27676 [==============================] - 3s 96us/sample - loss: 0.3147 - accuracy: 0.8510\n",
      "Epoch 49/100\n",
      "27676/27676 [==============================] - 3s 96us/sample - loss: 0.3142 - accuracy: 0.8512\n",
      "Epoch 50/100\n",
      "27676/27676 [==============================] - 3s 94us/sample - loss: 0.3143 - accuracy: 0.8516\n",
      "Epoch 51/100\n",
      "27676/27676 [==============================] - 3s 97us/sample - loss: 0.3143 - accuracy: 0.8514\n",
      "Epoch 52/100\n",
      "27676/27676 [==============================] - 3s 94us/sample - loss: 0.3142 - accuracy: 0.8516\n",
      "Epoch 53/100\n",
      "27676/27676 [==============================] - 3s 95us/sample - loss: 0.3144 - accuracy: 0.8517\n",
      "Epoch 54/100\n",
      "27676/27676 [==============================] - 3s 95us/sample - loss: 0.3144 - accuracy: 0.8510\n",
      "Epoch 55/100\n",
      "27676/27676 [==============================] - 3s 96us/sample - loss: 0.3142 - accuracy: 0.8517\n",
      "Epoch 56/100\n",
      "27676/27676 [==============================] - 3s 96us/sample - loss: 0.3141 - accuracy: 0.8511\n",
      "Epoch 57/100\n",
      "27676/27676 [==============================] - 3s 98us/sample - loss: 0.3141 - accuracy: 0.8519\n",
      "Epoch 58/100\n",
      "27676/27676 [==============================] - 3s 99us/sample - loss: 0.3142 - accuracy: 0.8518\n",
      "Epoch 59/100\n",
      "27676/27676 [==============================] - 3s 96us/sample - loss: 0.3142 - accuracy: 0.8523\n",
      "Epoch 60/100\n",
      "27676/27676 [==============================] - 3s 96us/sample - loss: 0.3143 - accuracy: 0.8520\n",
      "Epoch 61/100\n",
      "27676/27676 [==============================] - 3s 98us/sample - loss: 0.3141 - accuracy: 0.8512\n",
      "Epoch 62/100\n",
      "27676/27676 [==============================] - 3s 98us/sample - loss: 0.3141 - accuracy: 0.8507\n",
      "Epoch 63/100\n",
      "27676/27676 [==============================] - 3s 99us/sample - loss: 0.3141 - accuracy: 0.8507\n",
      "Epoch 64/100\n",
      "27676/27676 [==============================] - 3s 98us/sample - loss: 0.3142 - accuracy: 0.8519\n",
      "Epoch 65/100\n",
      "27676/27676 [==============================] - 3s 98us/sample - loss: 0.3138 - accuracy: 0.8515\n",
      "Epoch 66/100\n",
      "27676/27676 [==============================] - 3s 98us/sample - loss: 0.3140 - accuracy: 0.8508\n",
      "Epoch 67/100\n",
      "27676/27676 [==============================] - 3s 98us/sample - loss: 0.3138 - accuracy: 0.8523\n",
      "Epoch 68/100\n",
      "27676/27676 [==============================] - 3s 98us/sample - loss: 0.3141 - accuracy: 0.8508\n",
      "Epoch 69/100\n",
      "27676/27676 [==============================] - 3s 98us/sample - loss: 0.3137 - accuracy: 0.8519\n",
      "Epoch 70/100\n",
      "27676/27676 [==============================] - 3s 99us/sample - loss: 0.3140 - accuracy: 0.8514\n",
      "Epoch 71/100\n",
      "27676/27676 [==============================] - 3s 99us/sample - loss: 0.3137 - accuracy: 0.8532\n",
      "Epoch 72/100\n",
      "27676/27676 [==============================] - 3s 99us/sample - loss: 0.3137 - accuracy: 0.8516\n",
      "Epoch 73/100\n",
      "27676/27676 [==============================] - 3s 98us/sample - loss: 0.3137 - accuracy: 0.8524\n",
      "Epoch 74/100\n",
      "27676/27676 [==============================] - 3s 98us/sample - loss: 0.3138 - accuracy: 0.8535\n",
      "Epoch 75/100\n"
     ]
    },
    {
     "name": "stdout",
     "output_type": "stream",
     "text": [
      "27676/27676 [==============================] - 3s 97us/sample - loss: 0.3135 - accuracy: 0.8518\n",
      "Epoch 76/100\n",
      "27676/27676 [==============================] - 3s 97us/sample - loss: 0.3139 - accuracy: 0.8522\n",
      "Epoch 77/100\n",
      "27676/27676 [==============================] - 3s 97us/sample - loss: 0.3137 - accuracy: 0.8517\n",
      "Epoch 78/100\n",
      "27676/27676 [==============================] - 3s 96us/sample - loss: 0.3134 - accuracy: 0.8520\n",
      "Epoch 79/100\n",
      "27676/27676 [==============================] - 3s 97us/sample - loss: 0.3135 - accuracy: 0.8522\n",
      "Epoch 80/100\n",
      "27676/27676 [==============================] - 3s 96us/sample - loss: 0.3134 - accuracy: 0.8524\n",
      "Epoch 81/100\n",
      "27676/27676 [==============================] - 3s 98us/sample - loss: 0.3135 - accuracy: 0.8529\n",
      "Epoch 82/100\n",
      "27676/27676 [==============================] - 3s 97us/sample - loss: 0.3133 - accuracy: 0.8516\n",
      "Epoch 83/100\n",
      "27676/27676 [==============================] - 3s 98us/sample - loss: 0.3132 - accuracy: 0.8519\n",
      "Epoch 84/100\n",
      "27676/27676 [==============================] - 3s 98us/sample - loss: 0.3134 - accuracy: 0.8532\n",
      "Epoch 85/100\n",
      "27676/27676 [==============================] - 3s 97us/sample - loss: 0.3133 - accuracy: 0.8533\n",
      "Epoch 86/100\n",
      "27676/27676 [==============================] - 3s 98us/sample - loss: 0.3132 - accuracy: 0.8536\n",
      "Epoch 87/100\n",
      "27676/27676 [==============================] - 3s 97us/sample - loss: 0.3133 - accuracy: 0.8531\n",
      "Epoch 88/100\n",
      "27676/27676 [==============================] - 3s 96us/sample - loss: 0.3132 - accuracy: 0.8528\n",
      "Epoch 89/100\n",
      "27676/27676 [==============================] - 3s 97us/sample - loss: 0.3131 - accuracy: 0.8537\n",
      "Epoch 90/100\n",
      "27676/27676 [==============================] - 3s 97us/sample - loss: 0.3133 - accuracy: 0.8526\n",
      "Epoch 91/100\n",
      "27676/27676 [==============================] - 3s 97us/sample - loss: 0.3130 - accuracy: 0.8528\n",
      "Epoch 92/100\n",
      "27676/27676 [==============================] - ETA: 0s - loss: 0.3135 - accuracy: 0.85 - 3s 100us/sample - loss: 0.3130 - accuracy: 0.8533\n",
      "Epoch 93/100\n",
      "27676/27676 [==============================] - 3s 97us/sample - loss: 0.3132 - accuracy: 0.8519\n",
      "Epoch 94/100\n",
      "27676/27676 [==============================] - 3s 98us/sample - loss: 0.3131 - accuracy: 0.8530\n",
      "Epoch 95/100\n",
      "27676/27676 [==============================] - 3s 99us/sample - loss: 0.3131 - accuracy: 0.8524\n",
      "Epoch 96/100\n",
      "27676/27676 [==============================] - 3s 97us/sample - loss: 0.3129 - accuracy: 0.8512\n",
      "Epoch 97/100\n",
      "27676/27676 [==============================] - 3s 98us/sample - loss: 0.3129 - accuracy: 0.8527\n",
      "Epoch 98/100\n",
      "27676/27676 [==============================] - 3s 97us/sample - loss: 0.3128 - accuracy: 0.8514\n",
      "Epoch 99/100\n",
      "27676/27676 [==============================] - 3s 98us/sample - loss: 0.3130 - accuracy: 0.8512s - los\n",
      "Epoch 100/100\n",
      "27676/27676 [==============================] - 3s 97us/sample - loss: 0.3132 - accuracy: 0.8528\n"
     ]
    },
    {
     "data": {
      "text/plain": [
       "<tensorflow.python.keras.callbacks.History at 0x18f88e4c320>"
      ]
     },
     "execution_count": 24,
     "metadata": {},
     "output_type": "execute_result"
    }
   ],
   "source": [
    "# Treinando o modelo, ajustando a cada 10 registros, ajustando o peso por 100 vezes\n",
    "classificador.fit(previsores_train, classe_train, batch_size=10, epochs=100)"
   ]
  },
  {
   "cell_type": "code",
   "execution_count": 25,
   "metadata": {},
   "outputs": [],
   "source": [
    "previsoes = classificador.predict(previsores_test)"
   ]
  },
  {
   "cell_type": "code",
   "execution_count": 26,
   "metadata": {},
   "outputs": [],
   "source": [
    "previsoes = (previsoes > 0.5)"
   ]
  },
  {
   "cell_type": "code",
   "execution_count": 27,
   "metadata": {},
   "outputs": [],
   "source": [
    "# Calculando a precisão do modelo\n",
    "from sklearn.metrics import confusion_matrix, accuracy_score"
   ]
  },
  {
   "cell_type": "code",
   "execution_count": 28,
   "metadata": {},
   "outputs": [
    {
     "data": {
      "text/plain": [
       "0.8448311156601842"
      ]
     },
     "execution_count": 28,
     "metadata": {},
     "output_type": "execute_result"
    }
   ],
   "source": [
    "precisao = accuracy_score(classe_test, previsoes)\n",
    "precisao"
   ]
  },
  {
   "cell_type": "code",
   "execution_count": 29,
   "metadata": {},
   "outputs": [
    {
     "data": {
      "text/plain": [
       "array([[3436,  257],\n",
       "       [ 501,  691]], dtype=int64)"
      ]
     },
     "execution_count": 29,
     "metadata": {},
     "output_type": "execute_result"
    }
   ],
   "source": [
    "matriz = confusion_matrix(classe_test, previsoes)\n",
    "matriz"
   ]
  },
  {
   "cell_type": "markdown",
   "metadata": {},
   "source": [
    "## Resultados\n",
    "### Redes neurais Tensorflow Keras\n",
    "0.8133 - (labelencoder + onehotencoder + escalonamento)  \n",
    "0.7559 - (labelencoder)  \n",
    "0.2440 - (labelencoder + onehotencoder)  \n",
    "0.8448 - (labelencoder + escalonamento)  "
   ]
  },
  {
   "cell_type": "code",
   "execution_count": null,
   "metadata": {},
   "outputs": [],
   "source": []
  }
 ],
 "metadata": {
  "kernelspec": {
   "display_name": "Python 3",
   "language": "python",
   "name": "python3"
  },
  "language_info": {
   "codemirror_mode": {
    "name": "ipython",
    "version": 3
   },
   "file_extension": ".py",
   "mimetype": "text/x-python",
   "name": "python",
   "nbconvert_exporter": "python",
   "pygments_lexer": "ipython3",
   "version": "3.6.5"
  }
 },
 "nbformat": 4,
 "nbformat_minor": 2
}
